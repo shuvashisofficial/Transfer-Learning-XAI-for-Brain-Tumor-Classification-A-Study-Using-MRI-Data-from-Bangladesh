{
 "cells": [
  {
   "cell_type": "code",
   "execution_count": null,
   "metadata": {},
   "outputs": [],
   "source": [
    "import pandas as pd\n",
    "import numpy as np\n",
    "import matplotlib.pyplot as plt\n",
    "import tensorflow as tf\n",
    "from tensorflow import keras\n",
    "import random\n",
    "import pathlib\n",
    "import cv2\n",
    "import seaborn as sns"
   ]
  },
  {
   "cell_type": "code",
   "execution_count": null,
   "metadata": {},
   "outputs": [],
   "source": [
    "# Check for GPU availability\n",
    "physical_devices = tf.config.list_physical_devices('GPU')\n",
    "if len(physical_devices) > 0:\n",
    "    print('GPU is available')\n",
    "else:\n",
    "    print('No GPU detected')\n",
    "\n",
    "num_gpus = len(physical_devices)\n",
    "\n",
    "if num_gpus > 0:\n",
    "    print(f\"Number of available GPUs: {num_gpus}\")\n",
    "    for i in range(num_gpus):\n",
    "        print(f\"GPU {i}: {tf.config.experimental.get_device_details(physical_devices[0])}\")\n",
    "else:\n",
    "    print(\"No GPUs available\")\n",
    "\n",
    "device = tf.device('gpu:0' if len(physical_devices) > 0 else 'cpu:0')"
   ]
  },
  {
   "cell_type": "code",
   "execution_count": null,
   "metadata": {},
   "outputs": [],
   "source": [
    "import os\n",
    "os.getcwd()"
   ]
  },
  {
   "cell_type": "code",
   "execution_count": null,
   "metadata": {},
   "outputs": [],
   "source": [
    "data_dir = 'D:\\Brain Cancer\\Dataset\\Brain_Cancer raw MRI data\\Brain_Cancer'\n",
    "os.listdir(data_dir)"
   ]
  },
  {
   "cell_type": "code",
   "execution_count": null,
   "metadata": {},
   "outputs": [],
   "source": [
    "tf.random.set_seed(42)\n",
    "\n",
    "train_data = keras.utils.image_dataset_from_directory(data_dir, validation_split = 0.1, subset = 'training', seed = 1, shuffle = True, batch_size = 32, image_size=(128,128))\n",
    "\n",
    "test_data = keras.utils.image_dataset_from_directory(data_dir, validation_split = 0.1, subset = 'validation', seed = 1, shuffle = True, batch_size = 32, image_size=(128,128))"
   ]
  },
  {
   "cell_type": "code",
   "execution_count": null,
   "metadata": {},
   "outputs": [],
   "source": [
    "filenames = pathlib.Path(data_dir)\n",
    "for label in train_data.class_names :\n",
    "    images = list(filenames.glob(f'{label}/*'))\n",
    "    print(f'{label} : {len(images)}')"
   ]
  },
  {
   "cell_type": "code",
   "execution_count": null,
   "metadata": {},
   "outputs": [],
   "source": [
    "train_data.cardinality().numpy(),  test_data.cardinality().numpy()"
   ]
  },
  {
   "cell_type": "code",
   "execution_count": null,
   "metadata": {},
   "outputs": [],
   "source": [
    "train_set = train_data.take(152)\n",
    "val_set = train_data.skip(152)"
   ]
  },
  {
   "cell_type": "code",
   "execution_count": null,
   "metadata": {},
   "outputs": [],
   "source": [
    "train_set.cardinality().numpy(), val_set.cardinality().numpy()"
   ]
  },
  {
   "cell_type": "code",
   "execution_count": null,
   "metadata": {},
   "outputs": [],
   "source": [
    "# import necessary libraries\n",
    "import os\n",
    "import matplotlib.pyplot as plt\n",
    "import random\n",
    "\n",
    "# Set the path to save the plot as PDF\n",
    "save_path = r'D:\\Brain Cancer\\PDF\\random_train_images.pdf'\n",
    "\n",
    "# Create the plot\n",
    "plt.figure(figsize=(15, 15))\n",
    "for images, labels in train_set.take(1):\n",
    "    for i in range(5):\n",
    "        index = random.randint(0, len(images) - 1)\n",
    "        ax = plt.subplot(1, 5, i + 1)\n",
    "        plt.imshow(images[index].numpy().astype(\"uint8\"))\n",
    "        plt.title(train_data.class_names[labels[index]], color='blue', fontsize=12)\n",
    "        plt.axis(False)\n",
    "\n",
    "# Adjust layout to be tight and save as PDF\n",
    "plt.tight_layout()\n",
    "plt.savefig(save_path, format='pdf',bbox_inches='tight', pad_inches=0)\n",
    "plt.show()\n"
   ]
  },
  {
   "cell_type": "code",
   "execution_count": null,
   "metadata": {},
   "outputs": [],
   "source": [
    "for images_batch, labels_batch in train_data:\n",
    "    print(images_batch.shape)\n",
    "    print(labels_batch.shape)\n",
    "    break"
   ]
  },
  {
   "cell_type": "code",
   "execution_count": null,
   "metadata": {},
   "outputs": [],
   "source": [
    "from tensorflow.keras.layers import Rescaling, Conv2D, MaxPooling2D, Flatten, Dense, Dropout, Flatten\n",
    "from tensorflow.keras import Model, Input"
   ]
  },
  {
   "cell_type": "code",
   "execution_count": null,
   "metadata": {},
   "outputs": [],
   "source": [
    "tf.random.set_seed(42)\n",
    "\n",
    "# Define the input layer\n",
    "input_layer = Input(shape=(128, 128, 3))\n",
    "\n",
    "# Convolutional layers with max pooling\n",
    "x = Conv2D(32, (3, 3), activation='relu')(input_layer)\n",
    "x = MaxPooling2D(pool_size=(2, 2))(x)\n",
    "x = Conv2D(128, (3, 3), activation='relu')(x)\n",
    "x = MaxPooling2D(pool_size=(2, 2))(x)\n",
    "x = Conv2D(64, (3, 3), activation='relu')(x)\n",
    "x = MaxPooling2D(pool_size=(2, 2))(x)\n",
    "\n",
    "# Flatten the output\n",
    "x = Flatten()(x)\n",
    "\n",
    "# Fully connected layers with dropout\n",
    "x = Dropout(0.5)(x)\n",
    "x = Dense(1024, activation='relu')(x)\n",
    "x = Dropout(0.5)(x)\n",
    "x = Dense(512, activation='relu')(x)\n",
    "x = Dropout(0.25)(x)\n",
    "\n",
    "# Output layer\n",
    "output_layer = Dense(3, activation='softmax')(x)"
   ]
  },
  {
   "cell_type": "code",
   "execution_count": null,
   "metadata": {},
   "outputs": [],
   "source": [
    "# Create the model\n",
    "model = Model(inputs=input_layer, outputs=output_layer)"
   ]
  },
  {
   "cell_type": "code",
   "execution_count": null,
   "metadata": {},
   "outputs": [],
   "source": [
    "# Print the model summary\n",
    "model.summary()"
   ]
  },
  {
   "cell_type": "code",
   "execution_count": null,
   "metadata": {},
   "outputs": [],
   "source": [
    "model.compile(loss = keras.losses.SparseCategoricalCrossentropy(), optimizer = keras.optimizers.Adam(learning_rate=1e-4), metrics = 'accuracy')"
   ]
  },
  {
   "cell_type": "code",
   "execution_count": null,
   "metadata": {},
   "outputs": [],
   "source": [
    "history_1 = model.fit(train_data, epochs=300, validation_data=test_data)"
   ]
  },
  {
   "cell_type": "code",
   "execution_count": null,
   "metadata": {},
   "outputs": [],
   "source": [
    "model.summary()"
   ]
  },
  {
   "cell_type": "code",
   "execution_count": null,
   "metadata": {},
   "outputs": [],
   "source": [
    "def plot_training_curves(history_df):\n",
    "    plt.figure(figsize = (13, 4), dpi = 120)\n",
    "    ax = plt.subplot(1, 2, 1)\n",
    "    plt.plot(range(1, len(history_df) + 1), history_df['loss'], marker = '.', label = 'Training Loss')\n",
    "    plt.plot(range(1, len(history_df) + 1), history_df['val_loss'], marker = '^', label = 'Validation Loss')\n",
    "    plt.xlabel('Epoch')\n",
    "    plt.ylabel('Cross Entropy')\n",
    "    plt.grid()\n",
    "    plt.legend()\n",
    "    ax = plt.subplot(1, 2, 2) \n",
    "    plt.plot(range(1, len(history_df) + 1), history_df['accuracy'], marker = '.', label = 'Training Accuracy')\n",
    "    plt.plot(range(1, len(history_df) + 1), history_df['val_accuracy'], marker = '^', label = 'Validation Accurcay')\n",
    "    plt.xlabel('Epoch')\n",
    "    plt.ylabel('Accuracy')\n",
    "    plt.grid()\n",
    "    plt.legend()\n",
    "    #     # Specify the directory to save the PDF\n",
    "    # save_dir = 'D:\\\\Brain Cancer\\\\PDF'\n",
    "    \n",
    "    # # Create the directory if it doesn't exist\n",
    "    # if not os.path.exists(save_dir):\n",
    "    #     os.makedirs(save_dir)\n",
    "    \n",
    "    # # Full path to save the PDF file\n",
    "    # pdf_path = os.path.join(save_dir, 'CNN_training_curves.pdf')\n",
    "    \n",
    "    # # Save the plot as a PDF with tight layout\n",
    "    # plt.tight_layout()  # Ensure that layout is tight\n",
    "    # plt.savefig(pdf_path, format='pdf', bbox_inches='tight')  \n",
    "    # Show the plot\n",
    "    plt.show()"
   ]
  },
  {
   "cell_type": "code",
   "execution_count": null,
   "metadata": {},
   "outputs": [],
   "source": [
    "plot_training_curves(pd.DataFrame(history_1.history))"
   ]
  },
  {
   "cell_type": "code",
   "execution_count": null,
   "metadata": {},
   "outputs": [],
   "source": [
    "X_test, y_test = None, None\n",
    "for images, labels in test_data:\n",
    "    if X_test == None or y_test == None:\n",
    "        X_test = images\n",
    "        y_test = labels\n",
    "    else:\n",
    "        X_test = tf.concat([X_test, images], axis = 0)\n",
    "        y_test = tf.concat([y_test, labels], axis = 0)\n",
    "        \n",
    "X_test.shape, y_test.shape"
   ]
  },
  {
   "cell_type": "code",
   "execution_count": null,
   "metadata": {},
   "outputs": [],
   "source": [
    "from sklearn import metrics"
   ]
  },
  {
   "cell_type": "code",
   "execution_count": null,
   "metadata": {},
   "outputs": [],
   "source": [
    "y_pred_proba = model.predict(X_test)\n",
    "y_pred = np.argmax(y_pred_proba, axis = 1)"
   ]
  },
  {
   "cell_type": "code",
   "execution_count": null,
   "metadata": {},
   "outputs": [],
   "source": [
    "metrics.accuracy_score(y_test, y_pred)"
   ]
  },
  {
   "cell_type": "code",
   "execution_count": null,
   "metadata": {},
   "outputs": [],
   "source": [
    "test_score = model.evaluate(test_data, verbose= 1)\n",
    "\n",
    "print(\"Test Loss: \", test_score[0])\n",
    "print(\"Test Accuracy: \", test_score[1])"
   ]
  },
  {
   "cell_type": "code",
   "execution_count": null,
   "metadata": {},
   "outputs": [],
   "source": [
    "from sklearn.metrics import classification_report\n",
    "target_names = ['brain_glioma', 'brain_menin', 'brain_tumor']\n",
    "print(classification_report(y_test , y_pred, target_names=target_names))"
   ]
  },
  {
   "cell_type": "code",
   "execution_count": null,
   "metadata": {},
   "outputs": [],
   "source": [
    "import seaborn as sns\n",
    "plt.figure(figsize = (6,6), dpi = 100)\n",
    "sns.heatmap(metrics.confusion_matrix(y_test, y_pred), annot = True, fmt='d', cmap = 'Greens')\n",
    "plt.xlabel('Predictions')\n",
    "plt.ylabel('True Labels')\n",
    "    # Add a title with the model name VGG19\n",
    "plt.title('Confusion Matrix for CNN')\n",
    "\n",
    "#     # Specify the directory to save the PDF\n",
    "# save_dir = 'D:\\\\Brain Cancer\\\\PDF'\n",
    "    \n",
    "#     # Create the directory if it doesn't exist\n",
    "# if not os.path.exists(save_dir):\n",
    "#     os.makedirs(save_dir)\n",
    "\n",
    "#     # Full path to save the PDF file (with VGG19 in the filename)\n",
    "# pdf_path = os.path.join(save_dir, 'CNN_confusion_matrix.pdf')\n",
    "    \n",
    "#     # Save the plot as a PDF with tight layout\n",
    "# plt.tight_layout()  # Ensure that layout is tight\n",
    "# plt.savefig(pdf_path, format='pdf', bbox_inches='tight')\n",
    "\n",
    "plt.show()"
   ]
  },
  {
   "cell_type": "code",
   "execution_count": null,
   "metadata": {},
   "outputs": [],
   "source": [
    "# plot random images from a given dataset, and compare predictions with ground truth\n",
    "def plot_random_predictions(dataset, model):\n",
    "\n",
    "    shuffled_data = dataset.shuffle(10)\n",
    "    class_names = dataset.class_names\n",
    "\n",
    "    for images, labels in shuffled_data.take(1):\n",
    "        plt.figure(figsize = (10, 10), dpi = 120)\n",
    "        y_pred_proba = model.predict(images)\n",
    "\n",
    "    for i in range(9):\n",
    "        index = random.randint(0, len(images))\n",
    "        ax = plt.subplot(3,3, i + 1)\n",
    "\n",
    "        img = images[index].numpy().astype(\"uint8\")\n",
    "        y_true = class_names[labels[index]]\n",
    "        y_pred = class_names[np.argmax(y_pred_proba[index], axis = 0)]\n",
    "      \n",
    "        c = 'g' if y_pred == y_true else 'r'\n",
    "      \n",
    "        plt.imshow(img)\n",
    "        plt.title(f'Predicted : {y_pred}\\nTrue label : {y_true}', c = c)\n",
    "        plt.axis(False)"
   ]
  },
  {
   "cell_type": "code",
   "execution_count": null,
   "metadata": {},
   "outputs": [],
   "source": [
    "plot_random_predictions(test_data, model)"
   ]
  },
  {
   "cell_type": "code",
   "execution_count": null,
   "metadata": {},
   "outputs": [],
   "source": [
    "# Function to save and display GradCAM\n",
    "def save_and_display_gradcam(img_path, heatmap, alpha=0.4):\n",
    "    # Load the original image\n",
    "    img = cv2.imread(img_path)\n",
    "    img = cv2.resize(img, (256, 256))  # Resize image to match model input size\n",
    "\n",
    "    # Resize heatmap to match the image dimensions\n",
    "    heatmap = cv2.resize(heatmap, (img.shape[1], img.shape[0]))\n",
    "\n",
    "    # Rescale heatmap to a range 0-255\n",
    "    heatmap = np.uint8(255 * heatmap)\n",
    "    heatmap = cv2.applyColorMap(heatmap, cv2.COLORMAP_JET)\n",
    "\n",
    "    # Apply heatmap on the original image\n",
    "    superimposed_img = cv2.addWeighted(heatmap, alpha, img, 1 - alpha, 0)\n",
    "\n",
    "    # Display the GradCAM visualization using Matplotlib\n",
    "    plt.figure(figsize=(3, 3))\n",
    "    plt.imshow(cv2.cvtColor(superimposed_img, cv2.COLOR_BGR2RGB))\n",
    "    plt.title('GradCAM', fontdict={'family': 'Serif', 'weight': 'bold', 'size': 12})\n",
    "    plt.axis('off')\n",
    "    plt.tight_layout()\n",
    "    # Save the figure\n",
    "    plt.savefig('D:\\Balanced Augmented Covid CXR Dataset\\CNN_gradcam.pdf')  # Save as pdf format\n",
    "    plt.show()"
   ]
  },
  {
   "cell_type": "code",
   "execution_count": null,
   "metadata": {},
   "outputs": [],
   "source": [
    "def make_gradcam_heatmap(img_array, model, last_conv_layer_name, pred_index=None):\n",
    "\n",
    "    model.layers[-1].activation = None\n",
    "    grad_model = tf.keras.models.Model(\n",
    "        [model.inputs], [model.get_layer(last_conv_layer_name).output, model.output]\n",
    "    )\n",
    "\n",
    "    with tf.GradientTape() as tape:\n",
    "        last_conv_layer_output, preds = grad_model(img_array)\n",
    "        if pred_index is None:\n",
    "            pred_index = tf.argmax(preds[0])\n",
    "        class_channel = preds[:, pred_index]\n",
    "\n",
    "    grads = tape.gradient(class_channel, last_conv_layer_output)\n",
    "    pooled_grads = tf.reduce_mean(grads, axis=(0, 1, 2))\n",
    "    last_conv_layer_output = last_conv_layer_output[0]\n",
    "    heatmap = last_conv_layer_output @ pooled_grads[..., tf.newaxis]\n",
    "    heatmap = tf.squeeze(heatmap)\n",
    "    heatmap = tf.maximum(heatmap, 0) / tf.math.reduce_max(heatmap)\n",
    "    return heatmap.numpy()"
   ]
  },
  {
   "cell_type": "code",
   "execution_count": null,
   "metadata": {},
   "outputs": [],
   "source": [
    " # make a prediction and visualize grad-cam\n",
    "def make_prediction_and_visualize_():\n",
    "    img_path = 'D:\\Brain Cancer\\Dataset\\Brain_Cancer raw MRI data\\Brain_Cancer\\brain_menin\\brain_menin_0005.jpg'\n",
    "\n",
    "    img = cv2.imread(img_path)\n",
    "    img = cv2.resize(img, (256, 256)) #IMG_WIDTH, IMG_HEIGHT\n",
    "    batch_pred = np.expand_dims(img, 0)\n",
    "\n",
    "    #rescaled_img = img / 255.0\n",
    "    #batch_pred = np.expand_dims(rescaled_img, 0)\n",
    "\n",
    "\n",
    "    last_conv_layer_name = 'max_pooling2d_8'\n",
    "\n",
    "    # Generate class activation heatmap\n",
    "    heatmap = make_gradcam_heatmap(batch_pred, model, last_conv_layer_name)\n",
    "\n",
    "    save_and_display_gradcam(img_path, heatmap)\n",
    "\n",
    "\n",
    "make_prediction_and_visualize_()"
   ]
  },
  {
   "cell_type": "code",
   "execution_count": null,
   "metadata": {},
   "outputs": [],
   "source": [
    "# Function to save and display ScoreCAM\n",
    "def save_and_display_gradcam_plusplus(img_path, heatmap, alpha=0.4):\n",
    "    # Load the original image\n",
    "    img = cv2.imread(img_path)\n",
    "    img = cv2.resize(img, (256, 256))  # Resize image to match model input size\n",
    "\n",
    "    # Resize heatmap to match the image dimensions\n",
    "    heatmap = cv2.resize(heatmap, (img.shape[1], img.shape[0]))\n",
    "\n",
    "    # Rescale heatmap to a range 0-255\n",
    "    heatmap = np.uint8(255 * heatmap)\n",
    "    heatmap = cv2.applyColorMap(heatmap, cv2.COLORMAP_JET)\n",
    "\n",
    "    # Apply heatmap on the original image\n",
    "    superimposed_img = cv2.addWeighted(heatmap, alpha, img, 1 - alpha, 0)\n",
    "\n",
    "    # Display the GradCAM visualization using Matplotlib\n",
    "    plt.figure(figsize=(3, 3))\n",
    "    plt.imshow(cv2.cvtColor(superimposed_img, cv2.COLOR_BGR2RGB))\n",
    "    plt.title('GradCAM++', fontdict={'family': 'Serif', 'weight': 'bold', 'size': 12})\n",
    "    plt.axis('off')\n",
    "    plt.tight_layout()\n",
    "    # Save the figure\n",
    "    plt.savefig('D:\\Balanced Augmented Covid CXR Dataset\\CNN_gradcamplusplus.pdf')  # Save as pdf format\n",
    "    plt.show()"
   ]
  },
  {
   "cell_type": "code",
   "execution_count": null,
   "metadata": {},
   "outputs": [],
   "source": [
    "# Function to generate GradCAM++ heatmap\n",
    "def make_gradcam_plusplus_heatmap(img_array, model, last_conv_layer_name, pred_index=None):\n",
    "    model.layers[-1].activation = None\n",
    "    grad_model = tf.keras.models.Model(\n",
    "        [model.inputs], [model.get_layer(last_conv_layer_name).output, model.output]\n",
    "    )\n",
    "\n",
    "    with tf.GradientTape() as tape:\n",
    "        last_conv_layer_output, preds = grad_model(img_array)\n",
    "        if pred_index is None:\n",
    "            pred_index = tf.argmax(preds[0])\n",
    "        class_output = preds[:, pred_index]\n",
    "        conv_output = last_conv_layer_output[0]\n",
    "\n",
    "    # Get gradients\n",
    "    grads = tape.gradient(class_output, last_conv_layer_output)\n",
    "    pooled_grads = tf.reduce_mean(grads[0], axis=(0, 1, 2))\n",
    "    last_conv_layer_output = last_conv_layer_output[0]\n",
    "\n",
    "    # Calculate guided gradients\n",
    "    guided_grads = tf.cast(last_conv_layer_output > 0, 'float32') * grads[0]\n",
    "\n",
    "    # Calculate importance weights\n",
    "    weights = tf.reduce_mean(guided_grads, axis=(0, 1))\n",
    "\n",
    "    # Generate heatmap\n",
    "    heatmap = tf.reduce_sum(tf.multiply(weights, last_conv_layer_output), axis=-1)\n",
    "    heatmap = tf.maximum(heatmap, 0) / tf.reduce_max(heatmap)  # Normalize\n",
    "\n",
    "    return heatmap.numpy()"
   ]
  },
  {
   "cell_type": "code",
   "execution_count": null,
   "metadata": {},
   "outputs": [],
   "source": [
    "# Function to make a prediction and visualize GradCAM++\n",
    "def make_prediction_and_visualize_gradcam_plusplus():\n",
    "    img_path = 'D:\\Balanced Augmented Covid CXR Dataset\\Dataset\\Chest X-Ray Image\\Covid\\\\35.jpg'\n",
    "\n",
    "\n",
    "    img = cv2.imread(img_path)\n",
    "    img = cv2.resize(img, (256, 256))  # Resize image to match model input size\n",
    "\n",
    "    batch_pred = np.expand_dims(img, 0)\n",
    "\n",
    "    last_conv_layer_name = 'max_pooling2d_8'\n",
    "\n",
    "    # Generate GradCAM++ heatmap\n",
    "    heatmap = make_gradcam_plusplus_heatmap(batch_pred, model, last_conv_layer_name)\n",
    "\n",
    "    save_and_display_gradcam_plusplus(img_path, heatmap)\n",
    "\n",
    "make_prediction_and_visualize_gradcam_plusplus()"
   ]
  }
 ],
 "metadata": {
  "kernelspec": {
   "display_name": "Refat",
   "language": "python",
   "name": "python3"
  },
  "language_info": {
   "codemirror_mode": {
    "name": "ipython",
    "version": 3
   },
   "file_extension": ".py",
   "mimetype": "text/x-python",
   "name": "python",
   "nbconvert_exporter": "python",
   "pygments_lexer": "ipython3",
   "version": "3.6.13"
  }
 },
 "nbformat": 4,
 "nbformat_minor": 2
}
